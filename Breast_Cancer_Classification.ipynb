{
  "nbformat": 4,
  "nbformat_minor": 0,
  "metadata": {
    "colab": {
      "provenance": []
    },
    "kernelspec": {
      "name": "python3",
      "display_name": "Python 3"
    },
    "language_info": {
      "name": "python"
    }
  },
  "cells": [
    {
      "cell_type": "markdown",
      "source": [
        "#About the Dataset"
      ],
      "metadata": {
        "id": "4oWDv4-zvtZX"
      }
    },
    {
      "cell_type": "markdown",
      "source": [
        "\n",
        "This dataset is Breast Cancer dataset contains 569 instances with features derived from breast mass images. Each instance is labeled as **malignant** or **benign**, indicating the presence or absence of breast cancer. This dataset is commonly used for machine learning classification tasks and originates from the University of Wisconsin."
      ],
      "metadata": {
        "id": "z-MXwwapv0Qm"
      }
    },
    {
      "cell_type": "markdown",
      "source": [
        "#Import the Dependencies"
      ],
      "metadata": {
        "id": "1O2M78c-tsFC"
      }
    },
    {
      "cell_type": "code",
      "execution_count": 52,
      "metadata": {
        "id": "aJnShc8rIFvK"
      },
      "outputs": [],
      "source": [
        "import numpy as np\n",
        "import matplotlib.pyplot as plt\n",
        "from sklearn.datasets import load_breast_cancer\n",
        "from sklearn.model_selection import train_test_split\n",
        "from sklearn.preprocessing import StandardScaler\n",
        "import torch\n",
        "import torch.nn as nn"
      ]
    },
    {
      "cell_type": "markdown",
      "source": [
        "#Load the Dataset"
      ],
      "metadata": {
        "id": "OqswuHaLuA3q"
      }
    },
    {
      "cell_type": "code",
      "source": [
        "# Load breast cancer dataset\n",
        "data = load_breast_cancer()\n",
        "X = data.data\n",
        "y = data.target"
      ],
      "metadata": {
        "id": "1Ih2eNG5VTfn"
      },
      "execution_count": 53,
      "outputs": []
    },
    {
      "cell_type": "markdown",
      "source": [
        "###Split the data train and test"
      ],
      "metadata": {
        "id": "pv_Px-iwuH2Y"
      }
    },
    {
      "cell_type": "code",
      "source": [
        "X_train, X_test, y_train, y_test = train_test_split(X, y, test_size=0.3)"
      ],
      "metadata": {
        "id": "i2Buq3vLVRQ_"
      },
      "execution_count": 67,
      "outputs": []
    },
    {
      "cell_type": "code",
      "source": [
        "# Standardize the features\n",
        "scaler = StandardScaler()\n",
        "X_train = scaler.fit_transform(X_train)\n",
        "X_test = scaler.transform(X_test)"
      ],
      "metadata": {
        "id": "s7JgeEogVXsC"
      },
      "execution_count": 68,
      "outputs": []
    },
    {
      "cell_type": "code",
      "source": [
        "X_train.shape"
      ],
      "metadata": {
        "colab": {
          "base_uri": "https://localhost:8080/"
        },
        "id": "w0UzvCAmVj2w",
        "outputId": "c50d0354-f544-4ef0-fc78-2a125d904fc0"
      },
      "execution_count": 69,
      "outputs": [
        {
          "output_type": "execute_result",
          "data": {
            "text/plain": [
              "(398, 30)"
            ]
          },
          "metadata": {},
          "execution_count": 69
        }
      ]
    },
    {
      "cell_type": "code",
      "source": [
        "X_test.shape"
      ],
      "metadata": {
        "colab": {
          "base_uri": "https://localhost:8080/"
        },
        "id": "69c6lV0aV2wA",
        "outputId": "ae4113bd-0b69-445d-c41d-6aa33f1670ca"
      },
      "execution_count": 70,
      "outputs": [
        {
          "output_type": "execute_result",
          "data": {
            "text/plain": [
              "(171, 30)"
            ]
          },
          "metadata": {},
          "execution_count": 70
        }
      ]
    },
    {
      "cell_type": "markdown",
      "source": [
        "#Build the model"
      ],
      "metadata": {
        "id": "HesTK2VXuYz0"
      }
    },
    {
      "cell_type": "code",
      "source": [
        "# Build the model\n",
        "model = nn.Sequential( nn.Linear(D, 1),\n",
        "                      nn.Sigmoid()\n",
        ")"
      ],
      "metadata": {
        "id": "5hCaxMdKWBB1"
      },
      "execution_count": 71,
      "outputs": []
    },
    {
      "cell_type": "markdown",
      "source": [
        "###Setup the Loss and Optimizer"
      ],
      "metadata": {
        "id": "qdHRLIDgui5G"
      }
    },
    {
      "cell_type": "code",
      "source": [
        "# Select Loss and Optimizer\n",
        "criterion = nn.BCELoss()\n",
        "optimizer = torch.optim.Adam(model.parameters(), lr=0.001)"
      ],
      "metadata": {
        "id": "e6Ot5O3kXbfr"
      },
      "execution_count": 72,
      "outputs": []
    },
    {
      "cell_type": "markdown",
      "source": [
        "###Change data into pytorch tensor"
      ],
      "metadata": {
        "id": "U4AQpEanuptm"
      }
    },
    {
      "cell_type": "code",
      "source": [
        "# Convert data to PyTorch tensors\n",
        "X_train = torch.from_numpy(X_train.astype(np.float32))\n",
        "y_train = torch.from_numpy(y_train.astype(np.float32).reshape(-1, 1))\n",
        "X_test = torch.from_numpy(X_test.astype(np.float32))\n",
        "y_test = torch.from_numpy(y_test.astype(np.float32).reshape(-1, 1))"
      ],
      "metadata": {
        "id": "JgB6AEs4YEMH"
      },
      "execution_count": 73,
      "outputs": []
    },
    {
      "cell_type": "markdown",
      "source": [
        "#Train the model"
      ],
      "metadata": {
        "id": "-enlaJPkuy-H"
      }
    },
    {
      "cell_type": "code",
      "source": [
        "# Train Model\n",
        "n_epochs = 1000\n",
        "\n",
        "# stuff to store\n",
        "train_losses = np.zeros(n_epochs)\n",
        "test_losses = np.zeros(n_epochs)\n",
        "\n",
        "for it in range(n_epochs):\n",
        "  # zero the parameter gradiente\n",
        "  optimizer.zero_grad()\n",
        "\n",
        "  # forward pass\n",
        "  outputs = model(X_train)\n",
        "  loss = criterion(outputs, y_train)\n",
        "\n",
        "  # backward and optimize\n",
        "  loss.backward()\n",
        "  optimizer.step()\n",
        "\n",
        "  # Get test loss\n",
        "  outputs_test = model(X_test)\n",
        "  loss_test = criterion(outputs_test, y_test)\n",
        "\n",
        "  #save_losses\n",
        "  train_losses[it] = loss.item()\n",
        "  test_losses[it] = loss_test.item()\n",
        "\n",
        "  if (it + 1) % 50 == 0:\n",
        "    print(f'Epoch {it+1}/{n_epochs}, Train Loss: {loss.item(): 4f}, Test Loss: {loss_test.item(): 4f}')\n"
      ],
      "metadata": {
        "colab": {
          "base_uri": "https://localhost:8080/"
        },
        "id": "oCz4UMvyZPEA",
        "outputId": "ae54da9c-8b60-49fe-e257-55f3e4aebc1e"
      },
      "execution_count": 74,
      "outputs": [
        {
          "output_type": "stream",
          "name": "stdout",
          "text": [
            "Epoch 50/1000, Train Loss:  0.514404, Test Loss:  0.517002\n",
            "Epoch 100/1000, Train Loss:  0.381074, Test Loss:  0.391360\n",
            "Epoch 150/1000, Train Loss:  0.306269, Test Loss:  0.320145\n",
            "Epoch 200/1000, Train Loss:  0.258248, Test Loss:  0.273919\n",
            "Epoch 250/1000, Train Loss:  0.225091, Test Loss:  0.241110\n",
            "Epoch 300/1000, Train Loss:  0.201078, Test Loss:  0.216550\n",
            "Epoch 350/1000, Train Loss:  0.182986, Test Loss:  0.197569\n",
            "Epoch 400/1000, Train Loss:  0.168886, Test Loss:  0.182540\n",
            "Epoch 450/1000, Train Loss:  0.157584, Test Loss:  0.170392\n",
            "Epoch 500/1000, Train Loss:  0.148311, Test Loss:  0.160392\n",
            "Epoch 550/1000, Train Loss:  0.140550, Test Loss:  0.152034\n",
            "Epoch 600/1000, Train Loss:  0.133946, Test Loss:  0.144955\n",
            "Epoch 650/1000, Train Loss:  0.128246, Test Loss:  0.138892\n",
            "Epoch 700/1000, Train Loss:  0.123266, Test Loss:  0.133647\n",
            "Epoch 750/1000, Train Loss:  0.118869, Test Loss:  0.129069\n",
            "Epoch 800/1000, Train Loss:  0.114950, Test Loss:  0.125043\n",
            "Epoch 850/1000, Train Loss:  0.111430, Test Loss:  0.121477\n",
            "Epoch 900/1000, Train Loss:  0.108246, Test Loss:  0.118298\n",
            "Epoch 950/1000, Train Loss:  0.105348, Test Loss:  0.115447\n",
            "Epoch 1000/1000, Train Loss:  0.102695, Test Loss:  0.112879\n"
          ]
        }
      ]
    },
    {
      "cell_type": "markdown",
      "source": [
        "###Vitualize the train and test loss"
      ],
      "metadata": {
        "id": "fhAk1QZDu3P0"
      }
    },
    {
      "cell_type": "code",
      "source": [
        "# plot the train and test loss\n",
        "plt.plot(train_losses, label='train loss')\n",
        "plt.plot(test_losses, label = 'test loss')\n",
        "plt.legend()\n",
        "plt.show()"
      ],
      "metadata": {
        "colab": {
          "base_uri": "https://localhost:8080/",
          "height": 430
        },
        "id": "c08W14CHdAXU",
        "outputId": "e425a49e-3efc-4f68-c5a8-67bb203f3c7c"
      },
      "execution_count": 75,
      "outputs": [
        {
          "output_type": "display_data",
          "data": {
            "text/plain": [
              "<Figure size 640x480 with 1 Axes>"
            ],
            "image/png": "[encoded data removed]"
          },
          "metadata": {}
        }
      ]
    },
    {
      "cell_type": "markdown",
      "source": [
        "#Test the Model Accuracy"
      ],
      "metadata": {
        "id": "-tcdHjf2vA9-"
      }
    },
    {
      "cell_type": "code",
      "source": [
        "# Get accuracy\n",
        "with torch.no_grad():\n",
        "  p_train = model(X_train)\n",
        "  p_train = np.round(p_train.numpy())\n",
        "  train_acc = np.mean(y_train.numpy() == p_train)\n",
        "\n",
        "  p_test = model(X_test)\n",
        "  p_test = np.round(p_test.numpy())\n",
        "  test_acc = np.mean(y_test.numpy() == p_test)\n",
        "\n",
        "print(f'Train acc: {train_acc: 4f}, Test acc: {test_acc: 4f}')\n"
      ],
      "metadata": {
        "colab": {
          "base_uri": "https://localhost:8080/"
        },
        "id": "Xp_dUoQGeAct",
        "outputId": "0d1be981-0cf9-482d-bd6a-b0fdff6fea98"
      },
      "execution_count": 85,
      "outputs": [
        {
          "output_type": "stream",
          "name": "stdout",
          "text": [
            "Train acc:  0.979899, Test acc:  0.976608\n"
          ]
        }
      ]
    },
    {
      "cell_type": "markdown",
      "source": [
        "# Save the model"
      ],
      "metadata": {
        "id": "QDK6oDTGvMwo"
      }
    },
    {
      "cell_type": "code",
      "source": [
        "# State_dic\n",
        "model.state_dict()"
      ],
      "metadata": {
        "colab": {
          "base_uri": "https://localhost:8080/"
        },
        "id": "hRSqU2nWrigY",
        "outputId": "c63d3ca9-3028-4c0b-97f1-326c60af834a"
      },
      "execution_count": 87,
      "outputs": [
        {
          "output_type": "execute_result",
          "data": {
            "text/plain": [
              "OrderedDict([('0.weight',\n",
              "              tensor([[-0.2956, -0.2751, -0.3997, -0.3851, -0.1545, -0.0454, -0.3884, -0.4101,\n",
              "                       -0.2655,  0.3889, -0.3377, -0.2618, -0.4726, -0.2836,  0.1415,  0.1805,\n",
              "                        0.0769, -0.1768,  0.1839,  0.7231, -0.4670, -0.3021, -0.2834, -0.2939,\n",
              "                       -0.3423, -0.2531, -0.3546, -0.3204, -0.3161, -0.3825]])),\n",
              "             ('0.bias', tensor([0.2631]))])"
            ]
          },
          "metadata": {},
          "execution_count": 87
        }
      ]
    },
    {
      "cell_type": "code",
      "source": [
        "# Save the model\n",
        "torch.save(model.state_dict(), 'Breast-Cancer-Classification-model.pt')"
      ],
      "metadata": {
        "id": "8FaB6p9SsKAA"
      },
      "execution_count": 89,
      "outputs": []
    },
    {
      "cell_type": "markdown",
      "source": [
        "#Download the model"
      ],
      "metadata": {
        "id": "Bo9DnikFvQWU"
      }
    },
    {
      "cell_type": "code",
      "source": [
        "# Download the model\n",
        "from google.colab import files\n",
        "files.download('/content/Breast-Cancer-Classification-model.pt')"
      ],
      "metadata": {
        "colab": {
          "base_uri": "https://localhost:8080/",
          "height": 17
        },
        "id": "1qCZpz1psp6f",
        "outputId": "22cab8a1-7c14-439f-9c03-3255f09375b7"
      },
      "execution_count": 90,
      "outputs": [
        {
          "output_type": "display_data",
          "data": {
            "text/plain": [
              "<IPython.core.display.Javascript object>"
            ],
            "application/javascript": [
              "\n",
              "    async function download(id, filename, size) {\n",
              "      if (!google.colab.kernel.accessAllowed) {\n",
              "        return;\n",
              "      }\n",
              "      const div = document.createElement('div');\n",
              "      const label = document.createElement('label');\n",
              "      label.textContent = `Downloading \"${filename}\": `;\n",
              "      div.appendChild(label);\n",
              "      const progress = document.createElement('progress');\n",
              "      progress.max = size;\n",
              "      div.appendChild(progress);\n",
              "      document.body.appendChild(div);\n",
              "\n",
              "      const buffers = [];\n",
              "      let downloaded = 0;\n",
              "\n",
              "      const channel = await google.colab.kernel.comms.open(id);\n",
              "      // Send a message to notify the kernel that we're ready.\n",
              "      channel.send({})\n",
              "\n",
              "      for await (const message of channel.messages) {\n",
              "        // Send a message to notify the kernel that we're ready.\n",
              "        channel.send({})\n",
              "        if (message.buffers) {\n",
              "          for (const buffer of message.buffers) {\n",
              "            buffers.push(buffer);\n",
              "            downloaded += buffer.byteLength;\n",
              "            progress.value = downloaded;\n",
              "          }\n",
              "        }\n",
              "      }\n",
              "      const blob = new Blob(buffers, {type: 'application/binary'});\n",
              "      const a = document.createElement('a');\n",
              "      a.href = window.URL.createObjectURL(blob);\n",
              "      a.download = filename;\n",
              "      div.appendChild(a);\n",
              "      a.click();\n",
              "      div.remove();\n",
              "    }\n",
              "  "
            ]
          },
          "metadata": {}
        },
        {
          "output_type": "display_data",
          "data": {
            "text/plain": [
              "<IPython.core.display.Javascript object>"
            ],
            "application/javascript": [
              "download(\"download_3bf0fb15-030c-4bb6-9625-ba76e042ce4f\", \"Breast-Cancer-Classification-model.pt\", 1914)"
            ]
          },
          "metadata": {}
        }
      ]
    }
  ]
}